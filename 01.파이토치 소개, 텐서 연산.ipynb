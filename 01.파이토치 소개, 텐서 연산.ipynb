{
 "cells": [
  {
   "cell_type": "markdown",
   "id": "4136858e",
   "metadata": {},
   "source": [
    "파이토치는 실행할때마다 텐서플로와 다르게 컴파일 하지 않아도 된다"
   ]
  },
  {
   "cell_type": "markdown",
   "id": "98c48887",
   "metadata": {},
   "source": [
    "텐서 = n차원 스칼라 배열"
   ]
  },
  {
   "cell_type": "markdown",
   "id": "03c2c58d",
   "metadata": {},
   "source": [
    "## 텐서 만들기"
   ]
  },
  {
   "cell_type": "code",
   "execution_count": 22,
   "id": "35a2d33f",
   "metadata": {},
   "outputs": [],
   "source": [
    "def describe(x):\n",
    "    print(\"타입: {}\".format(x.type()))\n",
    "    print(\"크기: {}\".format(x.shape))\n",
    "    print('값: {}'.format(x))"
   ]
  },
  {
   "cell_type": "code",
   "execution_count": 23,
   "id": "312a4ab3",
   "metadata": {},
   "outputs": [],
   "source": [
    "import torch"
   ]
  },
  {
   "cell_type": "code",
   "execution_count": 24,
   "id": "53f01176",
   "metadata": {},
   "outputs": [
    {
     "name": "stdout",
     "output_type": "stream",
     "text": [
      "타입: torch.FloatTensor\n",
      "크기: torch.Size([2, 3])\n",
      "값: tensor([[ 0.0000e+00, -1.5846e+29,  0.0000e+00],\n",
      "        [-1.5846e+29,  8.4078e-45,  0.0000e+00]])\n"
     ]
    }
   ],
   "source": [
    "describe(torch.Tensor(2,3))"
   ]
  },
  {
   "cell_type": "code",
   "execution_count": 25,
   "id": "17dc5b20",
   "metadata": {},
   "outputs": [
    {
     "name": "stdout",
     "output_type": "stream",
     "text": [
      "타입: torch.FloatTensor\n",
      "크기: torch.Size([2, 3])\n",
      "값: tensor([[0.1816, 0.8665, 0.8586],\n",
      "        [0.9194, 0.0136, 0.3890]])\n",
      "타입: torch.FloatTensor\n",
      "크기: torch.Size([2, 3])\n",
      "값: tensor([[ 0.0521, -1.4825,  0.4356],\n",
      "        [ 0.7226, -0.7588,  0.6776]])\n"
     ]
    }
   ],
   "source": [
    "describe(torch.rand(2,3)) #균등 분포\n",
    "describe(torch.randn(2,3))"
   ]
  },
  {
   "cell_type": "code",
   "execution_count": 26,
   "id": "a31c3943",
   "metadata": {},
   "outputs": [
    {
     "name": "stdout",
     "output_type": "stream",
     "text": [
      "타입: torch.FloatTensor\n",
      "크기: torch.Size([2, 3])\n",
      "값: tensor([[0., 0., 0.],\n",
      "        [0., 0., 0.]])\n"
     ]
    }
   ],
   "source": [
    "describe(torch.zeros(2,3))"
   ]
  },
  {
   "cell_type": "code",
   "execution_count": 27,
   "id": "44ae6bf5",
   "metadata": {},
   "outputs": [
    {
     "name": "stdout",
     "output_type": "stream",
     "text": [
      "타입: torch.FloatTensor\n",
      "크기: torch.Size([2, 3])\n",
      "값: tensor([[1., 1., 1.],\n",
      "        [1., 1., 1.]])\n"
     ]
    }
   ],
   "source": [
    "x = torch.ones(2,3)\n",
    "describe(x)"
   ]
  },
  {
   "cell_type": "code",
   "execution_count": 28,
   "id": "7854a7ab",
   "metadata": {},
   "outputs": [
    {
     "name": "stdout",
     "output_type": "stream",
     "text": [
      "타입: torch.FloatTensor\n",
      "크기: torch.Size([2, 3])\n",
      "값: tensor([[5., 5., 5.],\n",
      "        [5., 5., 5.]])\n"
     ]
    }
   ],
   "source": [
    "x.fill_(5)\n",
    "describe(x)"
   ]
  },
  {
   "cell_type": "code",
   "execution_count": 29,
   "id": "e138e52e",
   "metadata": {},
   "outputs": [],
   "source": [
    "#파이썬 리스트로 텐서 만들기\n",
    "x = torch.Tensor([[1,2,3],\n",
    "                 [4,5,6]])"
   ]
  },
  {
   "cell_type": "code",
   "execution_count": 30,
   "id": "bb9c0f3a",
   "metadata": {},
   "outputs": [
    {
     "name": "stdout",
     "output_type": "stream",
     "text": [
      "타입: torch.FloatTensor\n",
      "크기: torch.Size([2, 3])\n",
      "값: tensor([[1., 2., 3.],\n",
      "        [4., 5., 6.]])\n"
     ]
    }
   ],
   "source": [
    "describe(x)"
   ]
  },
  {
   "cell_type": "code",
   "execution_count": 31,
   "id": "d1429778",
   "metadata": {},
   "outputs": [
    {
     "name": "stdout",
     "output_type": "stream",
     "text": [
      "타입: torch.DoubleTensor\n",
      "크기: torch.Size([2, 3])\n",
      "값: tensor([[0.7870, 0.9777, 0.1840],\n",
      "        [0.2515, 0.5271, 0.6638]], dtype=torch.float64)\n"
     ]
    }
   ],
   "source": [
    "#넘파이 배열을 사용하면 텐서 타입이 FloatTensor가 아닌 DoubleTensor로 된다\n",
    "import numpy as np\n",
    "npy = np.random.rand(2,3)\n",
    "describe(torch.from_numpy(npy))"
   ]
  },
  {
   "cell_type": "markdown",
   "id": "6c1c2b78",
   "metadata": {},
   "source": [
    "## 텐서 타입과 크기"
   ]
  },
  {
   "cell_type": "markdown",
   "id": "24f6dafa",
   "metadata": {},
   "source": [
    "기본 텐서 타입: torch.FloatTensor"
   ]
  },
  {
   "cell_type": "code",
   "execution_count": 32,
   "id": "b0afec0b",
   "metadata": {},
   "outputs": [
    {
     "name": "stdout",
     "output_type": "stream",
     "text": [
      "타입: torch.FloatTensor\n",
      "크기: torch.Size([2, 3])\n",
      "값: tensor([[1., 2., 3.],\n",
      "        [4., 5., 6.]])\n"
     ]
    }
   ],
   "source": [
    "x = torch.FloatTensor([[1,2,3],\n",
    "                      [4,5,6]])\n",
    "describe(x)"
   ]
  },
  {
   "cell_type": "code",
   "execution_count": 33,
   "id": "c1bd81a9",
   "metadata": {},
   "outputs": [
    {
     "name": "stdout",
     "output_type": "stream",
     "text": [
      "타입: torch.LongTensor\n",
      "크기: torch.Size([2, 3])\n",
      "값: tensor([[1, 2, 3],\n",
      "        [4, 5, 6]])\n"
     ]
    }
   ],
   "source": [
    "x = x.long()\n",
    "describe(x)"
   ]
  },
  {
   "cell_type": "code",
   "execution_count": 34,
   "id": "5bf86f94",
   "metadata": {},
   "outputs": [
    {
     "name": "stdout",
     "output_type": "stream",
     "text": [
      "타입: torch.LongTensor\n",
      "크기: torch.Size([2, 3])\n",
      "값: tensor([[1, 2, 3],\n",
      "        [4, 5, 6]])\n"
     ]
    }
   ],
   "source": [
    "x = torch.tensor([[1,2,3],\n",
    "                 [4,5,6]],dtype = torch.int64)\n",
    "describe(x)"
   ]
  },
  {
   "cell_type": "code",
   "execution_count": 35,
   "id": "3f1bfee5",
   "metadata": {},
   "outputs": [
    {
     "name": "stdout",
     "output_type": "stream",
     "text": [
      "타입: torch.FloatTensor\n",
      "크기: torch.Size([2, 3])\n",
      "값: tensor([[1., 2., 3.],\n",
      "        [4., 5., 6.]])\n"
     ]
    }
   ],
   "source": [
    "x = x.float()\n",
    "describe(x)"
   ]
  },
  {
   "cell_type": "markdown",
   "id": "18cadeaa",
   "metadata": {},
   "source": [
    "## 텐서 연산"
   ]
  },
  {
   "cell_type": "code",
   "execution_count": 37,
   "id": "8d67a47e",
   "metadata": {},
   "outputs": [
    {
     "name": "stdout",
     "output_type": "stream",
     "text": [
      "타입: torch.FloatTensor\n",
      "크기: torch.Size([2, 3])\n",
      "값: tensor([[-0.5861, -0.7227, -2.0223],\n",
      "        [-0.1183,  1.1687, -0.6563]])\n"
     ]
    }
   ],
   "source": [
    "x = torch.randn(2,3)\n",
    "describe(x)"
   ]
  },
  {
   "cell_type": "code",
   "execution_count": 38,
   "id": "cf628987",
   "metadata": {},
   "outputs": [
    {
     "name": "stdout",
     "output_type": "stream",
     "text": [
      "타입: torch.FloatTensor\n",
      "크기: torch.Size([2, 3])\n",
      "값: tensor([[-1.1723, -1.4454, -4.0446],\n",
      "        [-0.2365,  2.3375, -1.3126]])\n"
     ]
    }
   ],
   "source": [
    "describe(torch.add(x,x))"
   ]
  },
  {
   "cell_type": "code",
   "execution_count": 39,
   "id": "9a0f9fbb",
   "metadata": {},
   "outputs": [
    {
     "name": "stdout",
     "output_type": "stream",
     "text": [
      "타입: torch.FloatTensor\n",
      "크기: torch.Size([2, 3])\n",
      "값: tensor([[-1.1723, -1.4454, -4.0446],\n",
      "        [-0.2365,  2.3375, -1.3126]])\n"
     ]
    }
   ],
   "source": [
    "describe(x+x)"
   ]
  },
  {
   "cell_type": "markdown",
   "id": "544f32ef",
   "metadata": {},
   "source": [
    "텐서별 차원 연산: 2D 텐서는 행을 차원0, 열을 차원1로 표시"
   ]
  },
  {
   "cell_type": "code",
   "execution_count": 41,
   "id": "662a28e0",
   "metadata": {},
   "outputs": [
    {
     "name": "stdout",
     "output_type": "stream",
     "text": [
      "타입: torch.LongTensor\n",
      "크기: torch.Size([6])\n",
      "값: tensor([0, 1, 2, 3, 4, 5])\n"
     ]
    }
   ],
   "source": [
    "x = torch.arange(6)\n",
    "describe(x)"
   ]
  },
  {
   "cell_type": "code",
   "execution_count": 42,
   "id": "682d33fc",
   "metadata": {},
   "outputs": [
    {
     "name": "stdout",
     "output_type": "stream",
     "text": [
      "타입: torch.LongTensor\n",
      "크기: torch.Size([2, 3])\n",
      "값: tensor([[0, 1, 2],\n",
      "        [3, 4, 5]])\n"
     ]
    }
   ],
   "source": [
    "x = x.view(2,3) #reshape와 같음. ㅇ동일한 데이터 공유하는 새로운 텐서\n",
    "describe(x)"
   ]
  },
  {
   "cell_type": "code",
   "execution_count": 44,
   "id": "6ea4036d",
   "metadata": {},
   "outputs": [
    {
     "name": "stdout",
     "output_type": "stream",
     "text": [
      "타입: torch.LongTensor\n",
      "크기: torch.Size([3])\n",
      "값: tensor([3, 5, 7])\n"
     ]
    }
   ],
   "source": [
    "describe(torch.sum(x,dim=0))"
   ]
  },
  {
   "cell_type": "code",
   "execution_count": 45,
   "id": "34245bee",
   "metadata": {},
   "outputs": [
    {
     "name": "stdout",
     "output_type": "stream",
     "text": [
      "타입: torch.LongTensor\n",
      "크기: torch.Size([2])\n",
      "값: tensor([ 3, 12])\n"
     ]
    }
   ],
   "source": [
    "describe(torch.sum(x,dim=1))"
   ]
  },
  {
   "cell_type": "code",
   "execution_count": 46,
   "id": "efe76734",
   "metadata": {},
   "outputs": [
    {
     "name": "stdout",
     "output_type": "stream",
     "text": [
      "타입: torch.LongTensor\n",
      "크기: torch.Size([3, 2])\n",
      "값: tensor([[0, 3],\n",
      "        [1, 4],\n",
      "        [2, 5]])\n"
     ]
    }
   ],
   "source": [
    "describe(torch.transpose(x,0,1))"
   ]
  },
  {
   "cell_type": "markdown",
   "id": "bf27953b",
   "metadata": {},
   "source": [
    "## 인덱싱, 슬라이싱, 연결"
   ]
  },
  {
   "cell_type": "code",
   "execution_count": 48,
   "id": "1a9a14e1",
   "metadata": {},
   "outputs": [
    {
     "name": "stdout",
     "output_type": "stream",
     "text": [
      "타입: torch.LongTensor\n",
      "크기: torch.Size([2, 3])\n",
      "값: tensor([[0, 1, 2],\n",
      "        [3, 4, 5]])\n"
     ]
    }
   ],
   "source": [
    "x = torch.arange(6).view(2,3)\n",
    "describe(x)"
   ]
  },
  {
   "cell_type": "code",
   "execution_count": 49,
   "id": "92d1a172",
   "metadata": {},
   "outputs": [
    {
     "name": "stdout",
     "output_type": "stream",
     "text": [
      "타입: torch.LongTensor\n",
      "크기: torch.Size([1, 2])\n",
      "값: tensor([[0, 1]])\n"
     ]
    }
   ],
   "source": [
    "describe(x[:1,:2])"
   ]
  },
  {
   "cell_type": "code",
   "execution_count": 50,
   "id": "423aec04",
   "metadata": {},
   "outputs": [
    {
     "name": "stdout",
     "output_type": "stream",
     "text": [
      "타입: torch.LongTensor\n",
      "크기: torch.Size([2, 2])\n",
      "값: tensor([[0, 2],\n",
      "        [3, 5]])\n"
     ]
    }
   ],
   "source": [
    "#복잡한 인덱싱, 연속적이지 않은 텐서 인덱스 참조하기\n",
    "indices = torch.LongTensor([0,2])\n",
    "describe(torch.index_select(x,dim=1,index=indices))"
   ]
  },
  {
   "cell_type": "code",
   "execution_count": 51,
   "id": "9ef5e019",
   "metadata": {},
   "outputs": [
    {
     "name": "stdout",
     "output_type": "stream",
     "text": [
      "타입: torch.LongTensor\n",
      "크기: torch.Size([2])\n",
      "값: tensor([0, 2])\n"
     ]
    }
   ],
   "source": [
    "describe(indices)"
   ]
  },
  {
   "cell_type": "code",
   "execution_count": 52,
   "id": "e2ea0b5e",
   "metadata": {},
   "outputs": [],
   "source": [
    "#인덱스가 LongTensor라는 사실이 파이토치함수 사용 시 필수조건"
   ]
  },
  {
   "cell_type": "code",
   "execution_count": 53,
   "id": "3b725c71",
   "metadata": {},
   "outputs": [
    {
     "data": {
      "text/plain": [
       "tensor([[0, 1, 2],\n",
       "        [3, 4, 5]])"
      ]
     },
     "execution_count": 53,
     "metadata": {},
     "output_type": "execute_result"
    }
   ],
   "source": [
    "x"
   ]
  },
  {
   "cell_type": "code",
   "execution_count": 55,
   "id": "bf7abb2b",
   "metadata": {},
   "outputs": [
    {
     "name": "stdout",
     "output_type": "stream",
     "text": [
      "타입: torch.LongTensor\n",
      "크기: torch.Size([2, 3])\n",
      "값: tensor([[0, 1, 2],\n",
      "        [0, 1, 2]])\n"
     ]
    }
   ],
   "source": [
    "indices = torch.LongTensor([0,0])\n",
    "describe(torch.index_select(x,dim=0,index=indices))"
   ]
  },
  {
   "cell_type": "code",
   "execution_count": 56,
   "id": "8d25d83d",
   "metadata": {},
   "outputs": [
    {
     "name": "stdout",
     "output_type": "stream",
     "text": [
      "타입: torch.LongTensor\n",
      "크기: torch.Size([2, 3])\n",
      "값: tensor([[0, 1, 2],\n",
      "        [3, 4, 5]])\n"
     ]
    }
   ],
   "source": [
    "#텐서 연결 내장함수로도 가능\n",
    "x = torch.arange(6).view(2,3)\n",
    "describe(x)"
   ]
  },
  {
   "cell_type": "code",
   "execution_count": 58,
   "id": "efd7cf88",
   "metadata": {},
   "outputs": [
    {
     "name": "stdout",
     "output_type": "stream",
     "text": [
      "타입: torch.LongTensor\n",
      "크기: torch.Size([4, 3])\n",
      "값: tensor([[0, 1, 2],\n",
      "        [3, 4, 5],\n",
      "        [0, 1, 2],\n",
      "        [3, 4, 5]])\n"
     ]
    }
   ],
   "source": [
    "describe(torch.cat([x,x],dim=0)) #torch.cat(): tensor 합치기"
   ]
  },
  {
   "cell_type": "code",
   "execution_count": 59,
   "id": "bddfcc9b",
   "metadata": {},
   "outputs": [
    {
     "name": "stdout",
     "output_type": "stream",
     "text": [
      "타입: torch.LongTensor\n",
      "크기: torch.Size([2, 2, 3])\n",
      "값: tensor([[[0, 1, 2],\n",
      "         [3, 4, 5]],\n",
      "\n",
      "        [[0, 1, 2],\n",
      "         [3, 4, 5]]])\n"
     ]
    }
   ],
   "source": [
    "describe(torch.stack([x,x]))"
   ]
  },
  {
   "cell_type": "code",
   "execution_count": 60,
   "id": "ff1b1795",
   "metadata": {},
   "outputs": [
    {
     "name": "stdout",
     "output_type": "stream",
     "text": [
      "타입: torch.LongTensor\n",
      "크기: torch.Size([2, 3])\n",
      "값: tensor([[0, 1, 2],\n",
      "        [3, 4, 5]])\n"
     ]
    }
   ],
   "source": [
    "x1 = torch.arange(6).view(2,3)\n",
    "describe(x1)"
   ]
  },
  {
   "cell_type": "code",
   "execution_count": 65,
   "id": "1b431adf",
   "metadata": {},
   "outputs": [
    {
     "name": "stdout",
     "output_type": "stream",
     "text": [
      "타입: torch.FloatTensor\n",
      "크기: torch.Size([3, 2])\n",
      "값: tensor([[1., 2.],\n",
      "        [1., 2.],\n",
      "        [1., 2.]])\n"
     ]
    }
   ],
   "source": [
    "x2 = torch.ones(3,2)\n",
    "x2[:,1] += 1\n",
    "describe(x2)\n",
    "\n",
    "#torch.mm(): 행렬곱"
   ]
  },
  {
   "cell_type": "markdown",
   "id": "74d69701",
   "metadata": {},
   "source": [
    "## 텐서와 계산 그래프"
   ]
  },
  {
   "cell_type": "markdown",
   "id": "75b67a26",
   "metadata": {},
   "source": [
    "##### requires_grad = True: 그래디언트 기반 학습에 필요한 손실 함수와 텐서의 그레디언트 기록하는 부가 연산 활성화"
   ]
  },
  {
   "cell_type": "code",
   "execution_count": 68,
   "id": "163791c3",
   "metadata": {},
   "outputs": [
    {
     "name": "stdout",
     "output_type": "stream",
     "text": [
      "타입: torch.FloatTensor\n",
      "크기: torch.Size([2, 2])\n",
      "값: tensor([[1., 1.],\n",
      "        [1., 1.]], requires_grad=True)\n",
      "True\n"
     ]
    }
   ],
   "source": [
    "x = torch.ones(2,2,requires_grad=True)\n",
    "describe(x)\n",
    "print(x.grad is None)"
   ]
  },
  {
   "cell_type": "code",
   "execution_count": 69,
   "id": "aa7dcce8",
   "metadata": {},
   "outputs": [
    {
     "name": "stdout",
     "output_type": "stream",
     "text": [
      "타입: torch.FloatTensor\n",
      "크기: torch.Size([2, 2])\n",
      "값: tensor([[21., 21.],\n",
      "        [21., 21.]], grad_fn=<AddBackward0>)\n"
     ]
    }
   ],
   "source": [
    "y = (x+2) * (x+5) +3\n",
    "describe(y)"
   ]
  },
  {
   "cell_type": "code",
   "execution_count": 70,
   "id": "6caa2a72",
   "metadata": {},
   "outputs": [
    {
     "name": "stdout",
     "output_type": "stream",
     "text": [
      "타입: torch.FloatTensor\n",
      "크기: torch.Size([])\n",
      "값: 21.0\n",
      "False\n"
     ]
    }
   ],
   "source": [
    "z = y.mean()\n",
    "describe(z)\n",
    "z.backward() #역방향 계산\n",
    "print(x.grad is None)"
   ]
  },
  {
   "cell_type": "markdown",
   "id": "aa91e6c3",
   "metadata": {},
   "source": [
    "일반적으로 그래디언트: 함수 입력에 대한 함수 출력의 기울기\n",
    "    \n",
    "    - 계산 그래프에서 그래디언트는 파라미터마다 존재\n",
    "    - .grad: 노드에 대한 그래디언트\n",
    "    - 옵티마이저는 .grad를 바탕으로 파라미터값 업데이트"
   ]
  },
  {
   "cell_type": "markdown",
   "id": "467c2ffe",
   "metadata": {},
   "source": [
    "## CUDA 텐서"
   ]
  },
  {
   "cell_type": "markdown",
   "id": "ec9baeff",
   "metadata": {},
   "source": [
    "지금까지는 텐서를 CPU에 할당했지만 GPU 메모리 할당하는 방법?"
   ]
  },
  {
   "cell_type": "code",
   "execution_count": 74,
   "id": "35e1c3c8",
   "metadata": {},
   "outputs": [
    {
     "name": "stdout",
     "output_type": "stream",
     "text": [
      "False\n"
     ]
    }
   ],
   "source": [
    "print(torch.cuda.is_available()) #여기서는 쿠다 못쓰네"
   ]
  },
  {
   "cell_type": "markdown",
   "id": "a36b4f1c",
   "metadata": {},
   "source": [
    "## 문제 풀어보기"
   ]
  },
  {
   "cell_type": "code",
   "execution_count": 78,
   "id": "5f67f9cf",
   "metadata": {},
   "outputs": [
    {
     "data": {
      "text/plain": [
       "tensor([[[0.3156, 0.9886, 0.6581],\n",
       "         [0.4306, 0.6468, 0.3770],\n",
       "         [0.3353, 0.7610, 0.5202]]])"
      ]
     },
     "execution_count": 78,
     "metadata": {},
     "output_type": "execute_result"
    }
   ],
   "source": [
    "#1\n",
    "a = torch.rand(3,3)\n",
    "a.unsqueeze(0)\n",
    "\n",
    "#squeeze(): size가 1인차원 없애줌"
   ]
  },
  {
   "cell_type": "code",
   "execution_count": 79,
   "id": "57cc2ad4",
   "metadata": {},
   "outputs": [
    {
     "data": {
      "text/plain": [
       "tensor([[0.3156, 0.9886, 0.6581],\n",
       "        [0.4306, 0.6468, 0.3770],\n",
       "        [0.3353, 0.7610, 0.5202]])"
      ]
     },
     "execution_count": 79,
     "metadata": {},
     "output_type": "execute_result"
    }
   ],
   "source": [
    "#2\n",
    "a.squeeze(0)"
   ]
  },
  {
   "cell_type": "code",
   "execution_count": 80,
   "id": "d37583b1",
   "metadata": {},
   "outputs": [
    {
     "data": {
      "text/plain": [
       "tensor([[3.1414, 3.8007, 6.2886],\n",
       "        [3.8901, 4.3766, 6.0061],\n",
       "        [3.6472, 5.1094, 3.5824],\n",
       "        [3.7434, 5.7431, 3.3892],\n",
       "        [4.2794, 4.9769, 5.5314]])"
      ]
     },
     "execution_count": 80,
     "metadata": {},
     "output_type": "execute_result"
    }
   ],
   "source": [
    "#3\n",
    "3 + torch.rand(5,3) *4"
   ]
  },
  {
   "cell_type": "code",
   "execution_count": 81,
   "id": "5fe32874",
   "metadata": {},
   "outputs": [
    {
     "data": {
      "text/plain": [
       "<function Tensor.normal_>"
      ]
     },
     "execution_count": 81,
     "metadata": {},
     "output_type": "execute_result"
    }
   ],
   "source": [
    "#4\n",
    "a = torch.rand(3,3)\n",
    "a.normal_"
   ]
  },
  {
   "cell_type": "code",
   "execution_count": 87,
   "id": "04b3ccd7",
   "metadata": {},
   "outputs": [
    {
     "data": {
      "text/plain": [
       "tensor([[0],\n",
       "        [1],\n",
       "        [2],\n",
       "        [4]])"
      ]
     },
     "execution_count": 87,
     "metadata": {},
     "output_type": "execute_result"
    }
   ],
   "source": [
    "#5\n",
    "a= torch.Tensor([1,1,1,0,1])\n",
    "torch.nonzero(a)"
   ]
  },
  {
   "cell_type": "code",
   "execution_count": 88,
   "id": "a34372f8",
   "metadata": {},
   "outputs": [
    {
     "data": {
      "text/plain": [
       "tensor([[0.4424, 0.4424, 0.4424, 0.4424],\n",
       "        [0.5406, 0.5406, 0.5406, 0.5406],\n",
       "        [0.6725, 0.6725, 0.6725, 0.6725]])"
      ]
     },
     "execution_count": 88,
     "metadata": {},
     "output_type": "execute_result"
    }
   ],
   "source": [
    "#6\n",
    "a = torch.rand(3,1)\n",
    "a.expand(3,4) #extend(): 크기가 1인 차원을 지정한 크기로 늘림"
   ]
  },
  {
   "cell_type": "code",
   "execution_count": 89,
   "id": "da0c61de",
   "metadata": {},
   "outputs": [
    {
     "data": {
      "text/plain": [
       "tensor([[[2.0173, 1.8379, 1.7570, 1.4625],\n",
       "         [1.6128, 1.0536, 0.8923, 1.1944],\n",
       "         [2.0652, 1.5962, 1.6332, 1.6294],\n",
       "         [1.7789, 1.4160, 1.1003, 1.3703]],\n",
       "\n",
       "        [[0.8152, 2.3730, 1.3911, 1.1896],\n",
       "         [1.2025, 1.9932, 1.4912, 1.3987],\n",
       "         [0.8897, 1.5277, 0.9361, 0.5876],\n",
       "         [0.5381, 1.4137, 0.7752, 0.5163]],\n",
       "\n",
       "        [[0.9799, 1.2481, 1.7319, 1.8113],\n",
       "         [1.3510, 1.1865, 1.5942, 1.7817],\n",
       "         [0.7258, 1.1453, 1.5153, 1.4434],\n",
       "         [0.8544, 1.3446, 1.8362, 1.7614]]])"
      ]
     },
     "execution_count": 89,
     "metadata": {},
     "output_type": "execute_result"
    }
   ],
   "source": [
    "#7\n",
    "a = torch.rand(3,4,5)\n",
    "b = torch.rand(3,5,4)\n",
    "torch.bmm(a,b) #배치 행렬 곱셈: 첫번째 차원을 배치 차원으로 인식"
   ]
  },
  {
   "cell_type": "code",
   "execution_count": 90,
   "id": "f35b0ab6",
   "metadata": {},
   "outputs": [
    {
     "data": {
      "text/plain": [
       "tensor([[[0.8551, 0.6825, 0.6279, 0.5291],\n",
       "         [1.0774, 0.9862, 0.9710, 0.7477],\n",
       "         [0.9849, 1.0841, 0.7878, 0.8098],\n",
       "         [1.5191, 1.2466, 1.2565, 1.1384]],\n",
       "\n",
       "        [[0.7059, 0.8819, 0.8808, 0.7877],\n",
       "         [1.1928, 1.2686, 1.1062, 0.8081],\n",
       "         [1.3679, 1.3462, 1.1821, 0.8181],\n",
       "         [0.5553, 0.5320, 0.2881, 0.4666]],\n",
       "\n",
       "        [[1.0483, 0.9656, 0.9135, 0.6853],\n",
       "         [1.2374, 1.3297, 1.1526, 0.5813],\n",
       "         [1.2865, 1.1604, 1.0221, 0.7346],\n",
       "         [0.8079, 0.8123, 0.5712, 0.6136]]])"
      ]
     },
     "execution_count": 90,
     "metadata": {},
     "output_type": "execute_result"
    }
   ],
   "source": [
    "#8\n",
    "a = torch.rand(3,4,5)\n",
    "b = torch.rand(5,4)\n",
    "torch.bmm(a,b.unsqueeze(0).expand(a.size(0),*b.size()))"
   ]
  },
  {
   "cell_type": "code",
   "execution_count": null,
   "id": "c6215d04",
   "metadata": {},
   "outputs": [],
   "source": []
  }
 ],
 "metadata": {
  "kernelspec": {
   "display_name": "Python 3",
   "language": "python",
   "name": "python3"
  },
  "language_info": {
   "codemirror_mode": {
    "name": "ipython",
    "version": 3
   },
   "file_extension": ".py",
   "mimetype": "text/x-python",
   "name": "python",
   "nbconvert_exporter": "python",
   "pygments_lexer": "ipython3",
   "version": "3.8.8"
  }
 },
 "nbformat": 4,
 "nbformat_minor": 5
}
