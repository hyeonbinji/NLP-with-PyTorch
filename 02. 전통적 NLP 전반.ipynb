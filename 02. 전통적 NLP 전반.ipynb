{
 "cells": [
  {
   "cell_type": "markdown",
   "id": "b5030c87",
   "metadata": {},
   "source": [
    "## 텍스트 토큰화"
   ]
  },
  {
   "cell_type": "code",
   "execution_count": 1,
   "id": "5ea24113",
   "metadata": {},
   "outputs": [],
   "source": [
    "import spacy #텍스트 처리 패키지"
   ]
  },
  {
   "cell_type": "code",
   "execution_count": 2,
   "id": "8fb136ca",
   "metadata": {},
   "outputs": [
    {
     "name": "stdout",
     "output_type": "stream",
     "text": [
      "['mary', ',', 'don;t', 'slap', 'the', 'green', 'witch']\n"
     ]
    }
   ],
   "source": [
    "nlp = spacy.load(\"en_core_web_sm\")\n",
    "text = \"Mary, don;t slap the green witch\"\n",
    "print([str(token) for token in nlp(text.lower())])"
   ]
  },
  {
   "cell_type": "markdown",
   "id": "d179121a",
   "metadata": {},
   "source": [
    "내용어 vs 불용어\n",
    "\n",
    "내용어: 중요한 단어"
   ]
  },
  {
   "cell_type": "markdown",
   "id": "880cc6db",
   "metadata": {},
   "source": [
    "## 유니그램, 바이그램, 트라이그램, ... n_그램"
   ]
  },
  {
   "cell_type": "markdown",
   "id": "6b267b7e",
   "metadata": {},
   "source": [
    "n-그램은 텍스트에 있는 고정길이(n)의 연속된 토큰 시퀀스"
   ]
  },
  {
   "cell_type": "code",
   "execution_count": 3,
   "id": "16553e11",
   "metadata": {},
   "outputs": [
    {
     "name": "stdout",
     "output_type": "stream",
     "text": [
      "[['mary', ',', \"n't\"], [',', \"n't\", 'slap'], [\"n't\", 'slap', 'green'], ['slap', 'green', 'witch'], ['green', 'witch', '.']]\n"
     ]
    }
   ],
   "source": [
    "def n_grams(text,n):\n",
    "    '''\n",
    "    takes tokens or text, returns a list of n-grams\n",
    "    '''\n",
    "    return [text[i:i+n] for i in range(len(text)-n+1)]\n",
    "\n",
    "cleaned = ['mary',',',\"n't\",'slap','green','witch','.']\n",
    "print(n_grams(cleaned,3))"
   ]
  },
  {
   "cell_type": "markdown",
   "id": "08fb10bf",
   "metadata": {},
   "source": [
    "## 표제어와 어간\n",
    "- 표제어: 단어의 기본형 >> fly(flow,flew,flown 등 많을 때)\n",
    "- 어간: 변하지 않는 부분: fl\n"
   ]
  },
  {
   "cell_type": "code",
   "execution_count": 4,
   "id": "7df9a6b2",
   "metadata": {},
   "outputs": [
    {
     "name": "stdout",
     "output_type": "stream",
     "text": [
      "he >> he\n",
      "was >> be\n",
      "running >> run\n",
      "late >> late\n"
     ]
    }
   ],
   "source": [
    "#표제어\n",
    "doc = nlp(u\"he was running late\")\n",
    "for token in doc:\n",
    "    print('{} >> {}'.format(token,token.lemma_))"
   ]
  },
  {
   "cell_type": "markdown",
   "id": "081db6a7",
   "metadata": {},
   "source": [
    "## 품사 태깅\n",
    "\n",
    "문서에 레이블을 할당하는 개념을 단어나 토큰으로 확장"
   ]
  },
  {
   "cell_type": "code",
   "execution_count": 5,
   "id": "3bb79f65",
   "metadata": {},
   "outputs": [
    {
     "name": "stdout",
     "output_type": "stream",
     "text": [
      "Mary - PROPN\n",
      "slapped - VERB\n",
      "the - DET\n",
      "green - ADJ\n",
      "witch - NOUN\n",
      ". - PUNCT\n"
     ]
    }
   ],
   "source": [
    "doc = nlp(u\"Mary slapped the green witch.\")\n",
    "for token in doc:\n",
    "    print('{} - {}'.format(token,token.pos_))"
   ]
  },
  {
   "cell_type": "markdown",
   "id": "cb0d564e",
   "metadata": {},
   "source": [
    "## 청크 나누기와 개체명 인식\n",
    "\n",
    "명사구(NP)와 동사구(VP) 구별 필요"
   ]
  },
  {
   "cell_type": "code",
   "execution_count": 6,
   "id": "098840fd",
   "metadata": {},
   "outputs": [
    {
     "name": "stdout",
     "output_type": "stream",
     "text": [
      "Mary - NP\n",
      "the green witch - NP\n"
     ]
    }
   ],
   "source": [
    "for chunk in doc.noun_chunks:\n",
    "    print('{} - {}'.format(chunk,chunk.label_))\n",
    "\n",
    "#청크는 하나의 의미가 있는 말 덩어리"
   ]
  },
  {
   "cell_type": "code",
   "execution_count": null,
   "id": "242b53e1",
   "metadata": {},
   "outputs": [],
   "source": []
  }
 ],
 "metadata": {
  "kernelspec": {
   "display_name": "Python 3",
   "language": "python",
   "name": "python3"
  },
  "language_info": {
   "codemirror_mode": {
    "name": "ipython",
    "version": 3
   },
   "file_extension": ".py",
   "mimetype": "text/x-python",
   "name": "python",
   "nbconvert_exporter": "python",
   "pygments_lexer": "ipython3",
   "version": "3.8.8"
  }
 },
 "nbformat": 4,
 "nbformat_minor": 5
}
